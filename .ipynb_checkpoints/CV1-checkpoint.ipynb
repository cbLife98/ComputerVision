{
 "cells": [
  {
   "cell_type": "code",
   "execution_count": null,
   "metadata": {},
   "outputs": [],
   "source": [
    "import numpy as np\n",
    "import matplotlib.image as mpimg\n",
    "import matplotlib.pyplot as plt\n",
    "import cv2\n",
    "\n",
    "%matplotlib qt"
   ]
  },
  {
   "cell_type": "code",
   "execution_count": null,
   "metadata": {},
   "outputs": [],
   "source": [
    "# Read in the image\n",
    "image = mpimg.imread('dog.jpg')\n",
    "\n",
    "# Print out image dimensions\n",
    "print('Image dimensions:',image.shape)"
   ]
  },
  {
   "cell_type": "code",
   "execution_count": null,
   "metadata": {},
   "outputs": [],
   "source": [
    "# Change from Color to GreyScale\n",
    "gray_image = cv2.cvtColor(image,cv2.COLOR_RGB2GRAY)\n",
    "\n",
    "plt.imshow(gray_image,cmap = 'gray')"
   ]
  },
  {
   "cell_type": "code",
   "execution_count": null,
   "metadata": {},
   "outputs": [],
   "source": [
    "# print specific grayscale pixel values\n",
    "\n",
    "x = 954\n",
    "y = 740\n",
    "\n",
    "pixel_value = gray_image[y,x]\n",
    "print(pixel_value)"
   ]
  },
  {
   "cell_type": "code",
   "execution_count": null,
   "metadata": {},
   "outputs": [],
   "source": [
    "# COLOR THRESHOLD , BLUE SCREEN\n",
    "\n",
    "import matplotlib.pyplot as plt\n",
    "import numpy as np \n",
    "import cv2"
   ]
  },
  {
   "cell_type": "code",
   "execution_count": null,
   "metadata": {},
   "outputs": [],
   "source": [
    "# Read the image \n",
    "image = cv2.imread('final.png')\n",
    "\n",
    "# Print out information about image\n",
    "print('This image is :' , type(image),\n",
    "     ' with dimensions ', image.shape)"
   ]
  },
  {
   "cell_type": "code",
   "execution_count": null,
   "metadata": {},
   "outputs": [],
   "source": [
    "%matplotlib inline\n",
    "\n",
    "# Make a copy of the image\n",
    "image_copy = np.copy(image)\n",
    "\n",
    "# Change color from BGR to RGB\n",
    "image_copy = cv2.cvtColor(image_copy,cv2.COLOR_BGR2RGB)\n",
    "\n",
    "# Display the image \n",
    "plt.imshow(image_copy)"
   ]
  },
  {
   "cell_type": "code",
   "execution_count": null,
   "metadata": {},
   "outputs": [],
   "source": [
    "# Define color threshold; Define our color selectio boundaries\n",
    "lower_blue = np.array([0,0,100])\n",
    "upper_blue = np.array([100,100,255])"
   ]
  },
  {
   "cell_type": "code",
   "execution_count": null,
   "metadata": {},
   "outputs": [],
   "source": [
    "# Define masked area\n",
    "mask = cv2.inRange(image_copy,lower_blue,upper_blue)\n",
    "# Visualize the mask\n",
    "plt.imshow(mask,cmap = 'gray')"
   ]
  },
  {
   "cell_type": "code",
   "execution_count": null,
   "metadata": {},
   "outputs": [],
   "source": [
    "# Mask the image to show the pizza\n",
    "masked_image = np.copy(image_copy)\n",
    "masked_image[mask!=0] = [0,0,0]\n",
    "\n",
    "# Display the image\n",
    "plt.imshow(masked_image)"
   ]
  },
  {
   "cell_type": "code",
   "execution_count": null,
   "metadata": {},
   "outputs": [],
   "source": [
    "# Load a background image \n",
    "background = cv2.imread('space.jpg')\n",
    "background = cv2.cvtColor(background,cv2.COLOR_BGR2RGB)\n",
    "\n",
    "# Crop it to the same size (414,650)\n",
    "crop_background = background[0:414,0:650]\n",
    "\n",
    "# Mask the image to show the pizza\n",
    "crop_background[mask==0] = [0,0,0]\n",
    "\n",
    "# Display \n",
    "plt.imshow(crop_background)"
   ]
  },
  {
   "cell_type": "code",
   "execution_count": null,
   "metadata": {},
   "outputs": [],
   "source": [
    "# Add the images together\n",
    "complete_image = crop_background + masked_image\n",
    "\n",
    "plt.imshow(complete_image)"
   ]
  },
  {
   "cell_type": "code",
   "execution_count": null,
   "metadata": {},
   "outputs": [],
   "source": [
    "\n"
   ]
  },
  {
   "cell_type": "code",
   "execution_count": null,
   "metadata": {},
   "outputs": [],
   "source": [
    "\n",
    "\n"
   ]
  }
 ],
 "metadata": {
  "kernelspec": {
   "display_name": "Python 3",
   "language": "python",
   "name": "python3"
  },
  "language_info": {
   "codemirror_mode": {
    "name": "ipython",
    "version": 3
   },
   "file_extension": ".py",
   "mimetype": "text/x-python",
   "name": "python",
   "nbconvert_exporter": "python",
   "pygments_lexer": "ipython3",
   "version": "3.6.4"
  }
 },
 "nbformat": 4,
 "nbformat_minor": 2
}
