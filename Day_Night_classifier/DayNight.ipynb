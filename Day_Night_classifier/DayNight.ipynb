{
 "cells": [
  {
   "cell_type": "code",
   "execution_count": null,
   "metadata": {},
   "outputs": [],
   "source": [
    "import cv2\n",
    "\n",
    "import numpy as np\n",
    "import matplotlib.pyplot as plt\n",
    "import matplotlib.image as mpimg\n",
    "\n",
    "%matplotlib inline"
   ]
  },
  {
   "cell_type": "code",
   "execution_count": null,
   "metadata": {},
   "outputs": [],
   "source": [
    "import helpers"
   ]
  },
  {
   "cell_type": "markdown",
   "metadata": {},
   "source": [
    "#### Training and Testing data \n",
    "Contains 200 image both each of day and night "
   ]
  },
  {
   "cell_type": "code",
   "execution_count": null,
   "metadata": {},
   "outputs": [],
   "source": [
    "# Image directories \n",
    "image_dir_training = 'day_night_images\\\\training'\n",
    "image_dir_testing = 'day_night_images\\\\testing'"
   ]
  },
  {
   "cell_type": "markdown",
   "metadata": {},
   "source": [
    "### Loading dataset using helpers module"
   ]
  },
  {
   "cell_type": "code",
   "execution_count": null,
   "metadata": {},
   "outputs": [],
   "source": [
    "IMAGE_LIST = helpers.load_dataset(image_dir_training)"
   ]
  },
  {
   "cell_type": "code",
   "execution_count": null,
   "metadata": {},
   "outputs": [],
   "source": [
    "STANDARDIZED_LIST = helpers.standardize(IMAGE_LIST)"
   ]
  },
  {
   "cell_type": "code",
   "execution_count": null,
   "metadata": {},
   "outputs": [],
   "source": [
    "image_num = 120\n",
    "selected_image = STANDARDIZED_LIST[image_num][0]\n",
    "selected_label = STANDARDIZED_LIST[image_num][1]\n",
    "\n",
    "plt.imshow(selected_image)\n",
    "print('Shape: ' + str(selected_image.shape))\n",
    "print('Label [1 = Day, 0 = Night]: ' + str(selected_label))"
   ]
  },
  {
   "cell_type": "markdown",
   "metadata": {},
   "source": [
    "### Feature Extraction"
   ]
  },
  {
   "cell_type": "code",
   "execution_count": null,
   "metadata": {},
   "outputs": [],
   "source": [
    "# Convert RGB to HSV\n",
    " \n",
    "image_num = 0\n",
    "test_im = STANDARDIZED_LIST[image_num][0]\n",
    "test_label = STANDARDIZED_LIST[image_num][1]\n",
    "\n",
    "# Convert to HSV\n",
    "hsv = cv2.cvtColor(test_im,cv2.COLOR_RGB2HSV)\n",
    "\n",
    "#Print image label\n",
    "print('Label: ' + str(test_label))\n",
    "\n",
    "# HSV channels\n",
    "h = hsv[:,:,0]\n",
    "s = hsv[:,:,1]\n",
    "v = hsv[:,:,2]\n",
    "\n",
    "# Plot the images \n",
    "f,(ax1,ax2,ax3,ax4) = plt.subplots(1,4,figsize = (20,10))\n",
    "\n",
    "ax1.set_title('Standardized Image')\n",
    "ax1.imshow(test_im)\n",
    "\n",
    "ax2.set_title('H')\n",
    "ax2.imshow(h,cmap = 'gray')\n",
    "\n",
    "ax3.set_title('S')\n",
    "ax3.imshow(s,cmap = 'gray')\n",
    "\n",
    "ax4.set_title('V')\n",
    "ax4.imshow(v,cmap = 'gray')"
   ]
  },
  {
   "cell_type": "code",
   "execution_count": null,
   "metadata": {},
   "outputs": [],
   "source": [
    "# Calculate the average brightness\n",
    "def avg_brightness(rgb_image):\n",
    "    \n",
    "#     conversion\n",
    "    hsv = cv2.cvtColor(test_im,cv2.COLOR_RGB2HSV)\n",
    "    \n",
    "#     sum of all pixels of v\n",
    "    sum_bright = np.sum(hsv[:,:,2])\n",
    "    \n",
    "#     Pixels\n",
    "    area = 600 * 1100\n",
    "    \n",
    "#     Average\n",
    "    avg = sum_bright/area\n",
    "    \n",
    "    return avg    "
   ]
  },
  {
   "cell_type": "code",
   "execution_count": null,
   "metadata": {},
   "outputs": [],
   "source": [
    "# Look at the average values and see a pattern \n",
    "image_num = 0\n",
    "test_im = STANDARDIZED_LIST[image_num][0]\n",
    "\n",
    "avg = avg_brightness(test_im)\n",
    "print('Avg brightness: ' + str(avg))\n",
    "plt.imshow(test_im)"
   ]
  },
  {
   "cell_type": "markdown",
   "metadata": {},
   "source": [
    "### Classification"
   ]
  },
  {
   "cell_type": "code",
   "execution_count": null,
   "metadata": {},
   "outputs": [],
   "source": [
    "def estimate_label(rgb_image):\n",
    "    \n",
    "    avg = avg_brightness(rgb_image)\n",
    "    \n",
    "    prediction = 0 #night\n",
    "    threshold = 100\n",
    "    if (avg>threshold):\n",
    "        prediction = 1\n",
    "    return prediction"
   ]
  },
  {
   "cell_type": "markdown",
   "metadata": {},
   "source": [
    "#### Accuracy"
   ]
  },
  {
   "cell_type": "code",
   "execution_count": null,
   "metadata": {},
   "outputs": [],
   "source": [
    "# Test images \n",
    "import random\n",
    "\n",
    "TEST_IMAGES = helpers.load_dataset(image_dir_testing)\n",
    "\n",
    "STANDARDIZED_TEST_LIST = helpers.standardize(TEST_IMAGES)\n",
    "\n",
    "random.shuffle(STANDARDIZED_TEST_LIST)"
   ]
  },
  {
   "cell_type": "code",
   "execution_count": null,
   "metadata": {},
   "outputs": [],
   "source": [
    "def get_misclassified (test_images):\n",
    "    misclassify = []\n",
    "    for image in test_images:\n",
    "        im = image[0]\n",
    "        label = image[1] #true label\n",
    "        prediction = estimate_label(im)\n",
    "        if(prediction != label):\n",
    "            misclassify.append(im,predicted,label)\n",
    "    return misclassify"
   ]
  },
  {
   "cell_type": "code",
   "execution_count": null,
   "metadata": {},
   "outputs": [],
   "source": [
    "MISCLASSIFY = get_misclassified(STANDARDIZED_TEST_LIST)\n",
    "TOTAL = len(STANDARDIZED_TEST_LIST)\n",
    "num_correct = TOTAL - len(MISCLASSIFY)\n",
    "accuracy = num_correct/TOTAL\n",
    "\n",
    "print('Accuracy: ' +  str(accuracy))\n",
    "print('Number of misclassified images are: ' + str(len(MISCLASSIFY)+'out of: ' +  str(TOTAL) + ' images.'))"
   ]
  }
 ],
 "metadata": {
  "kernelspec": {
   "display_name": "Python 3",
   "language": "python",
   "name": "python3"
  },
  "language_info": {
   "codemirror_mode": {
    "name": "ipython",
    "version": 3
   },
   "file_extension": ".py",
   "mimetype": "text/x-python",
   "name": "python",
   "nbconvert_exporter": "python",
   "pygments_lexer": "ipython3",
   "version": "3.6.4"
  }
 },
 "nbformat": 4,
 "nbformat_minor": 2
}
