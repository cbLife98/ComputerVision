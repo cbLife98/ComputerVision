{
 "cells": [
  {
   "cell_type": "code",
   "execution_count": 3,
   "metadata": {},
   "outputs": [],
   "source": [
    "# Imports needed \n",
    "import numpy as np\n",
    "import matplotlib.image as mpimg # USed to read images\n",
    "import matplotlib.pyplot as plt\n",
    "import cv2   # Computer vision library\n",
    "\n",
    "%matplotlib qt"
   ]
  },
  {
   "cell_type": "code",
   "execution_count": 21,
   "metadata": {},
   "outputs": [
    {
     "name": "stdout",
     "output_type": "stream",
     "text": [
      "The Dimensions of the image are:  (469, 626, 3)\n",
      "The type of image is:  <class 'numpy.ndarray'>\n"
     ]
    }
   ],
   "source": [
    "# Read the image\n",
    "image = mpimg.imread('images/phone.jpg')\n",
    "\n",
    "# Dimensions of the image \n",
    "print(\"The Dimensions of the image are: \",image.shape)\n",
    "\n",
    "# Type of image \n",
    "print(\"The type of image is: \",type(image))\n"
   ]
  },
  {
   "cell_type": "code",
   "execution_count": 6,
   "metadata": {},
   "outputs": [
    {
     "data": {
      "text/plain": [
       "<matplotlib.image.AxesImage at 0x57d52f0>"
      ]
     },
     "execution_count": 6,
     "metadata": {},
     "output_type": "execute_result"
    }
   ],
   "source": [
    "# Changing image to Gray Scale \n",
    "gray_image = cv2.cvtColor(image,cv2.COLOR_RGB2GRAY)\n",
    "\n",
    "# Display the gray image \n",
    "plt.imshow(gray_image,cmap = 'gray')"
   ]
  },
  {
   "cell_type": "code",
   "execution_count": 11,
   "metadata": {},
   "outputs": [
    {
     "name": "stdout",
     "output_type": "stream",
     "text": [
      "The pixel value at x and y is:  0\n"
     ]
    }
   ],
   "source": [
    "# Print the specific pixel value at the point \n",
    "y = 362\n",
    "x = 223\n",
    "\n",
    "print(\"The pixel value at x and y is: \",gray_image[y,x])"
   ]
  },
  {
   "cell_type": "code",
   "execution_count": 16,
   "metadata": {},
   "outputs": [
    {
     "name": "stdout",
     "output_type": "stream",
     "text": [
      "The the maximum pixel value is:  248\n",
      "The minimum pixel value is:  0\n"
     ]
    }
   ],
   "source": [
    "# Finding the maximum and minimum pixel values\n",
    "max_val = gray_image.max()\n",
    "min_val = gray_image.min()\n",
    "\n",
    "print(\"The the maximum pixel value is: \",max_val)\n",
    "print(\"The minimum pixel value is: \",min_val)"
   ]
  },
  {
   "cell_type": "code",
   "execution_count": 19,
   "metadata": {},
   "outputs": [
    {
     "data": {
      "text/plain": [
       "<matplotlib.image.AxesImage at 0x5895930>"
      ]
     },
     "execution_count": 19,
     "metadata": {},
     "output_type": "execute_result"
    }
   ],
   "source": [
    "# Drawing an image of yourself\n",
    "tiny_image = np.array([[0, 20, 30, 150, 120],\n",
    "                      [200, 200, 250, 170, 30],\n",
    "                      [50, 180, 85, 40, 190],\n",
    "                      [240, 100, 50, 255, 10],\n",
    "                      [30, 0, 75, 190, 220]])\n",
    "plt.imshow(tiny_image,cmap='gray')"
   ]
  }
 ],
 "metadata": {
  "kernelspec": {
   "display_name": "Python 3",
   "language": "python",
   "name": "python3"
  },
  "language_info": {
   "codemirror_mode": {
    "name": "ipython",
    "version": 3
   },
   "file_extension": ".py",
   "mimetype": "text/x-python",
   "name": "python",
   "nbconvert_exporter": "python",
   "pygments_lexer": "ipython3",
   "version": "3.6.5"
  }
 },
 "nbformat": 4,
 "nbformat_minor": 4
}
